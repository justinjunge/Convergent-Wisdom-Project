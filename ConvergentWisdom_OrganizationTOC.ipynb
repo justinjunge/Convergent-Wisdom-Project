{
  "nbformat": 4,
  "nbformat_minor": 0,
  "metadata": {
    "colab": {
      "provenance": [],
      "authorship_tag": "ABX9TyNblOOzDRTkEVfqWiwEeRmH",
      "include_colab_link": true
    },
    "kernelspec": {
      "name": "python3",
      "display_name": "Python 3"
    },
    "language_info": {
      "name": "python"
    }
  },
  "cells": [
    {
      "cell_type": "markdown",
      "metadata": {
        "id": "view-in-github",
        "colab_type": "text"
      },
      "source": [
        "<a href=\"https://colab.research.google.com/github/justinjunge/Convergent-Wisdom-Project/blob/main/ConvergentWisdom_OrganizationTOC.ipynb\" target=\"_parent\"><img src=\"https://colab.research.google.com/assets/colab-badge.svg\" alt=\"Open In Colab\"/></a>"
      ]
    },
    {
      "cell_type": "markdown",
      "source": [
        "# Convergent Wisdom\n",
        "## Annotated Table of Contents\n",
        "\n",
        "Summary: This document contains a map of the current state of the project  along with highlighted future directions in **bold** (and includes concise descriptions of each section and file)\n",
        "\n",
        "###1. Frequency Analyses  \n",
        "Overview: Counting the occurence of specific words and groups of words in a text.  One way frequency analyses can be visualized is using Word Clouds.  \n",
        "file list:\n",
        "\n",
        "####1a. Frequency Sums & Temporal Distributions  \n",
        "Overview: Counting and then displaying/visualizing the number of occurences of a specific word in a text can be accomplished multiple ways, including their distribution over time or the progression of a text (e.g. per chapter).    \n",
        "\n",
        "####1b. Sentiment Analyses  \n",
        "Overview:  When the groups of words analyzed by frequency are about emotion/feeling/valence, this is a form of Sentiment Analysis.  A common method of sentiment analysis is to create lists of words.    \n",
        "file list:  \n",
        "\n",
        "###2. Semantic Analyses\n",
        "Overview:  Words, sentences, paragraphs, chapters, books, collections of books have meanings.  Semantic analyses use a model of how units of meaning relate to other units of meaning.  One method to produce a model is called vector embedding.\n",
        "file list:\n",
        "\n",
        "####2a. Vector Embeddings\n",
        "The following vector embeddings were created using the model [all-mpnet-base-v2] from [HuggingFace](https://huggingface.co/sentence-transformers/all-mpnet-base-v2):  \n",
        "[Bible vector embedded by chapter](https://github.com/justinjunge/Convergent-Wisdom-Project/blob/main/Bible_chapter.pt)  \n",
        "[Gita vector embedded by verse](https://github.com/justinjunge/Convergent-Wisdom-Project/blob/main/Gita.pt)  \n",
        "[Qu'ran vector embedded by chapter](https://github.com/justinjunge/Convergent-Wisdom-Project/blob/main/Quran_chapter_Embeddings.pt)  \n",
        "The vector embeddings were made from these files:  \n",
        "[Qu'ran](https://www.kaggle.com/datasets/zusmani/the-holy-quran?select=English.csv)  \n",
        "[Bible](https://github.com/justinjunge/Convergent-Wisdom-Project/blob/main/ChristianBible.csv)\n",
        "\n",
        "## Additional References\n",
        "[links to articles and various resources we consulted and found helpful while developing this project]\n",
        "\n",
        "[Public Domain Bhagavad Gita](https://www.gutenberg.org/files/2388/2388-h/2388-h.htm#:~:text=The%20Project%20Gutenberg%20E%2Dtext,***%20Produced%20by%20J.%20C.%20Byers.)  \n",
        "\n",
        "[Public Domain Qu'ran as CSV](https://www.kaggle.com/datasets/zusmani/the-holy-quran?select=English.csv)\n",
        "\n",
        "[Publich Domain Bible as CSV](https://github.com/justinjunge/Convergent-Wisdom-Project/blob/main/ChristianBible.csv)"
      ],
      "metadata": {
        "id": "R7LB3QYiBoW8"
      }
    }
  ]
}