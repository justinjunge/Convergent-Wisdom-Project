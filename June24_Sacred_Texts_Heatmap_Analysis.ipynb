{
  "cells": [
    {
      "cell_type": "markdown",
      "metadata": {
        "id": "view-in-github",
        "colab_type": "text"
      },
      "source": [
        "<a href=\"https://colab.research.google.com/github/justinjunge/Convergent-Wisdom-Project/blob/main/June24_Sacred_Texts_Heatmap_Analysis.ipynb\" target=\"_parent\"><img src=\"https://colab.research.google.com/assets/colab-badge.svg\" alt=\"Open In Colab\"/></a>"
      ]
    },
    {
      "cell_type": "markdown",
      "metadata": {
        "id": "lPcJZ49OMtdl"
      },
      "source": [
        "Welcome to the Convergent Wisdom project! In this module, we will use natural language processing to build tools that can generate similarity scores among inputted verses from the Hindu Bhagavad Gita, Muslim Qur'an, and Christian Bible. Using these scores, we created heatmaps that visualize regions of similarity and dissimilarity across the texts. This methodology is especially robust as it allows us to see where the world's major religions converge and diverge in their wisdom."
      ]
    },
    {
      "cell_type": "markdown",
      "metadata": {
        "id": "NVW4KiUiM45B"
      },
      "source": [
        "This first code block initializes necessary libraries and imports the religious texts."
      ]
    },
    {
      "cell_type": "code",
      "execution_count": null,
      "metadata": {
        "id": "kCWwhu-8Me1J"
      },
      "outputs": [],
      "source": [
        "!pip install vaderSentiment\n",
        "from vaderSentiment.vaderSentiment import SentimentIntensityAnalyzer\n",
        "\n",
        "import pandas as pd\n",
        "import numpy as np\n",
        "import requests\n",
        "import random\n",
        "import copy\n",
        "import seaborn as sns\n",
        "import matplotlib.pyplot as plt\n",
        "import plotly.graph_objs as go\n",
        "import plotly.express as px\n",
        "from io import StringIO\n",
        "from scipy import stats\n",
        "from google.colab import files\n",
        "from string import ascii_letters\n",
        "\n",
        "\n",
        "github_csv_url_Gita = 'https://raw.githubusercontent.com/justinjunge/Convergent-Wisdom-Project/main/CSV_files/Gita.csv'\n",
        "\n",
        "response1 = requests.get(github_csv_url_Gita)\n",
        "if response1.status_code == 200:\n",
        "  df_Gita = pd.read_csv(StringIO(response1.text))\n",
        "else:\n",
        "  print('Failed to fetch CSV File from Github')\n",
        "\n",
        "github_csv_url_Bible = 'https://raw.githubusercontent.com/justinjunge/Convergent-Wisdom-Project/main/CSV_files/ChristianBible.csv'\n",
        "response2 = requests.get(github_csv_url_Bible)\n",
        "if response2.status_code == 200:\n",
        "  df_Bible = pd.read_csv(StringIO(response2.text))\n",
        "else:\n",
        "  print('Failed to fetch CSV File from Github')\n",
        "\n",
        "github_csv_url_Quran = 'https://raw.githubusercontent.com/justinjunge/Convergent-Wisdom-Project/main/CSV_files/Quran.csv'\n",
        "response3 = requests.get(github_csv_url_Quran)\n",
        "if response3.status_code == 200:\n",
        "  df_Quran = pd.read_csv(StringIO(response3.text))\n",
        "else:\n",
        "  print('Failed to fetch CSV File from Github')\n",
        "\n",
        "df_Bible_by_chapter = df_Bible.groupby(['book', 'chapter'])['text'].apply(lambda x: ' '.join(x)).to_frame().reset_index()\n",
        "df_Bible_by_chapter['text'][0]\n",
        "\n",
        "df_Gita_by_verse = df_Gita.groupby(['Chapter', 'Verse'])['Text'].apply(lambda x: ' '.join(x)).to_frame().reset_index()\n",
        "df_Gita_by_verse['Text'][0]\n",
        "\n",
        "df_Quran_by_chapter = df_Quran.groupby(['Surah', 'Ayah'])['Text'].apply(lambda x: ' '.join(x)).to_frame().reset_index()\n",
        "df_Quran_by_chapter['Text'][0]"
      ]
    },
    {
      "cell_type": "code",
      "source": [
        "df_Quran"
      ],
      "metadata": {
        "id": "6VCdK7Y9gxYN"
      },
      "execution_count": null,
      "outputs": []
    },
    {
      "cell_type": "markdown",
      "metadata": {
        "id": "cyEN4TUBOden"
      },
      "source": [
        "This code below installs required packages."
      ]
    },
    {
      "cell_type": "code",
      "execution_count": null,
      "metadata": {
        "id": "2Gc_uxeroMYT"
      },
      "outputs": [],
      "source": [
        "!pip install -U sentence-transformers\n",
        "!pip install torch torchvision torchaudio\n",
        "import torch\n",
        "!pip install transformers\n",
        "!pip install sentence-transformers\n",
        "from sentence_transformers import SentenceTransformer, util\n",
        "!pip install matplotlib-venn\n",
        "from matplotlib_venn import venn2, venn2_circles, venn3, venn3_circles\n",
        "!pip install plotly\n",
        "!pip install kaleido\n",
        "\n",
        "!pip install nltk\n",
        "import nltk\n",
        "from nltk.tokenize import sent_tokenize\n",
        "nltk.download('punkt')"
      ]
    },
    {
      "cell_type": "markdown",
      "metadata": {
        "id": "FajUMfxWpD13"
      },
      "source": [
        "This line below iniializes our model."
      ]
    },
    {
      "cell_type": "code",
      "execution_count": null,
      "metadata": {
        "id": "JA9V3qbPpF-l"
      },
      "outputs": [],
      "source": [
        "model = SentenceTransformer('all-mpnet-base-v2')"
      ]
    },
    {
      "cell_type": "markdown",
      "metadata": {
        "id": "BJieEr91Od8u"
      },
      "source": [
        "To properly conduct this type of processing on a large scale, we created tensors of the Gita, Qur'an, and Bible. These tensors are contained in .pt files in the Github repository. This code below initializes the tensors. Please note that you will need to ensure that your runtime is set to GPU for the code to work."
      ]
    },
    {
      "cell_type": "code",
      "execution_count": null,
      "metadata": {
        "id": "moiqym9BqAyX"
      },
      "outputs": [],
      "source": [
        "Gita_url = 'https://raw.githubusercontent.com/justinjunge/Convergent-Wisdom-Project/main/Vector_Embeddings/Gita5_Embedding.pt'\n",
        "Bible_url = 'https://raw.githubusercontent.com/justinjunge/Convergent-Wisdom-Project/main/Vector_Embeddings/Bible_chapter.pt'\n",
        "Quran_url = 'https://raw.githubusercontent.com/justinjunge/Convergent-Wisdom-Project/main/Vector_Embeddings/Quran_chapter_Embeddings.pt'\n",
        "\n",
        "\n",
        "# Send a GET request to fetch the file content\n",
        "responseG = requests.get(Gita_url)\n",
        "responseB = requests.get(Bible_url)\n",
        "responseQ = requests.get(Quran_url)\n",
        "\n",
        "# Check if the request was successful\n",
        "if responseG.status_code == 200:\n",
        "    with open('Gita.pt', 'wb') as f:\n",
        "        f.write(responseG.content)\n",
        "    embeddingG = torch.load('Gita.pt')\n",
        "    print(\"Model loaded successfully!\")\n",
        "else:\n",
        "    print(\"Failed to fetch the file.\")\n",
        "\n",
        "if responseB.status_code == 200:\n",
        "    with open('Bible_chapter.pt', 'wb') as f:\n",
        "        f.write(responseB.content)\n",
        "    embeddingB = torch.load('Bible_chapter.pt')\n",
        "    print(\"Model loaded successfully!\")\n",
        "else:\n",
        "    print(\"Failed to fetch the file.\")\n",
        "\n",
        "if responseQ.status_code == 200:\n",
        "    with open('Quran_chapter_Embeddings.pt', 'wb') as f:\n",
        "        f.write(responseQ.content)\n",
        "    embeddingQ = torch.load('Quran_chapter_Embeddings.pt')\n",
        "    print(\"Model loaded successfully!\")\n",
        "else:\n",
        "    print(\"Failed to fetch the file.\")"
      ]
    },
    {
      "cell_type": "markdown",
      "metadata": {
        "id": "Wn7xeZgbAoi6"
      },
      "source": [
        "Our heatmaps will work based on calculated similarity scores among all verses of our religious texts. The code below provides an example where similarity scores can be generated for any two inputted sentences. The variables in this test block are also used in later analyses."
      ]
    },
    {
      "cell_type": "code",
      "execution_count": null,
      "metadata": {
        "id": "ckgtIlb0A85Q"
      },
      "outputs": [],
      "source": [
        "sentence1 = \"William James started the modern field of Psychology as both an empirical and theoretical domain. \"\n",
        "sentence2 = \"Skittles are a snack food that is unhealthy.\"\n",
        "\n",
        "# encode sentences to get their embeddings\n",
        "embedding1 = model.encode(sentence1, convert_to_tensor=True)\n",
        "embedding2 = model.encode(sentence2, convert_to_tensor=True)\n",
        "\n",
        "# compute similarity scores of two embeddings\n",
        "cosine_scores = util.pytorch_cos_sim(embedding1, embedding2)\n",
        "print(\"Sentence 1:\", sentence1)\n",
        "print(\"Sentence 2:\", sentence2)\n",
        "print(\"Similarity score:\", cosine_scores.item())"
      ]
    },
    {
      "cell_type": "markdown",
      "metadata": {
        "id": "FPKaali1Oeek"
      },
      "source": [
        "Next, we will prepare our dataframes for heatmap analysis."
      ]
    },
    {
      "cell_type": "code",
      "execution_count": null,
      "metadata": {
        "id": "WoeBKth49dbj"
      },
      "outputs": [],
      "source": [
        "columnG = df_Gita[\"Text\"]\n",
        "columnB = df_Bible[\"text\"]\n",
        "columnQ = df_Quran[\"Text\"]\n",
        "\n",
        "quoted_listG = ['\"' + str(x) + '\"' for x in columnG]\n",
        "quoted_listB = ['\"' + str(x) + '\"' for x in columnB]\n",
        "quoted_listQ = ['\"' + str(x) + '\"' for x in columnQ]"
      ]
    },
    {
      "cell_type": "markdown",
      "metadata": {
        "id": "ZqlqDGu39dDN"
      },
      "source": [
        "We are ready now to finalize the data that will be used to plot our heatmap! This tool takes any input phrase and returns the top two matching verses from each religious text."
      ]
    },
    {
      "cell_type": "code",
      "execution_count": null,
      "metadata": {
        "id": "CogECiYw-TAw"
      },
      "outputs": [],
      "source": [
        "# Returns top N [num_results] matches to a phrase from the Gita, Bible, & Quran\n",
        "\n",
        "input_phrase = [\"Love everyone and be kind to everyone.\"]\n",
        "num_results = 2\n",
        "embedding1 = model.encode(input_phrase, convert_to_tensor=True)\n",
        "\n",
        "\n",
        "# compute similarity scores Gita, Bible, Quran\n",
        "# Gita\n",
        "cosine_scoresG = util.pytorch_cos_sim(embedding1, embeddingG)\n",
        "score_listG = list(cosine_scoresG[0])\n",
        "sorted_listG = sorted(score_listG)\n",
        "top_NG = sorted_listG[-num_results:]\n",
        "top_NG = sorted(top_NG, reverse=True)\n",
        "# Bible\n",
        "cosine_scoresB = util.pytorch_cos_sim(embedding1, embeddingB)\n",
        "score_listB = list(cosine_scoresB[0])\n",
        "sorted_listB = sorted(score_listB)\n",
        "top_NB = sorted_listB[-num_results:]\n",
        "top_NB = sorted(top_NB, reverse=True)\n",
        "# Quran\n",
        "cosine_scoresQ = util.pytorch_cos_sim(embedding1, embeddingQ)\n",
        "score_listQ = list(cosine_scoresQ[0])\n",
        "sorted_listQ = sorted(score_listQ)\n",
        "top_NQ = sorted_listQ[-num_results:]\n",
        "top_NQ = sorted(top_NQ, reverse=True)\n",
        "\n",
        "\n",
        "print(input_phrase)\n",
        "\n",
        "for i in range(len(top_NG)):\n",
        "  which_oneG = score_listG.index(top_NG[i])\n",
        "  print('Gita', top_NG[i], quoted_listG[which_oneG], df_Gita.iloc[which_oneG,0], df_Gita.iloc[which_oneG,1])\n",
        "\n",
        "for i in range(len(top_NB)):\n",
        "  which_oneB = score_listB.index(top_NB[i])\n",
        "  print('Bible', top_NB[i], quoted_listB[which_oneB], df_Bible.iloc[which_oneB,0], df_Bible.iloc[which_oneB,1], df_Bible.iloc[which_oneB,2])\n",
        "\n",
        "for i in range(len(top_NQ)):\n",
        "  which_oneQ = score_listQ.index(top_NQ[i])\n",
        "  print('Quran', top_NQ[i], quoted_listQ[which_oneQ], df_Quran.iloc[which_oneQ,0], df_Quran.iloc[which_oneQ,1], df_Quran.iloc[which_oneQ,2])\n"
      ]
    },
    {
      "cell_type": "markdown",
      "metadata": {
        "id": "n3DBmNB8_hJh"
      },
      "source": [
        "We are ready to plot our first heatmap! This code below generates a heatmap comparing the similarity/dissimilarity of every Gita verse to every Bible chapter."
      ]
    },
    {
      "cell_type": "code",
      "execution_count": null,
      "metadata": {
        "id": "f9v5kuB0OYmF"
      },
      "outputs": [],
      "source": [
        "# compute similarity scores Bible vs. Bible\n",
        "cosine_scoresBB = util.pytorch_cos_sim(embeddingB, embeddingB)\n",
        "print(cosine_scoresBB.shape)\n",
        "# rows: Gita, columns: Bible\n",
        "scores_BB = cosine_scoresBB.detach().cpu().numpy()\n",
        "\n",
        "# Show heatmap\n",
        "fig = px.imshow(scores_BB, color_continuous_scale='RdYlBu_r', zmin = -.25, zmax = 1, labels=dict(x=\"Bible (Chapter)\", y=\"Bible (Chapt)\", color=\"Semantic Similarity\"),)\n",
        "fig.show()"
      ]
    },
    {
      "cell_type": "code",
      "execution_count": null,
      "metadata": {
        "id": "YFxCsabzQgmb"
      },
      "outputs": [],
      "source": [
        "# compute similarity scores Gita vs. Gita\n",
        "cosine_scoresGG = util.pytorch_cos_sim(embeddingG, embeddingG)\n",
        "print(cosine_scoresGG.shape)\n",
        "# rows: Gita, columns: Bible\n",
        "scores_GG = cosine_scoresGG.detach().cpu().numpy()\n",
        "\n",
        "# Show heatmap\n",
        "fig = px.imshow(scores_GG, color_continuous_scale='RdYlBu_r', zmin = -.25, zmax = 1, labels=dict(x=\"Gita (Verse)\", y=\"Gita (Verse)\", color=\"Semantic Similarity\"),)\n",
        "fig.show()"
      ]
    },
    {
      "cell_type": "code",
      "execution_count": null,
      "metadata": {
        "id": "9UhwRqlRQtyy"
      },
      "outputs": [],
      "source": [
        "# compute similarity scores Quran vs. Quran\n",
        "cosine_scoresQQ = util.pytorch_cos_sim(embeddingQ, embeddingQ)\n",
        "print(cosine_scoresQQ.shape)\n",
        "# rows: Quran, columns: Quran\n",
        "scores_QQ = cosine_scoresQQ.detach().cpu().numpy()\n",
        "\n",
        "# Show heatmap\n",
        "fig = px.imshow(scores_QQ, color_continuous_scale='RdYlBu_r', zmin = -.25, zmax = 1, labels=dict(x=\"Quran (Chapter)\", y=\"Quran (Chapter)\", color=\"Semantic Similarity\"),)\n",
        "fig.show()"
      ]
    },
    {
      "cell_type": "code",
      "source": [
        "# prompt: Update the following code to display text from the data frame df_Gita_by_verse, with the passage corresponding to the x entry in df_Gita_by_verse['Text'][x] and y entry of df_Gita_by_verse['Text'][y]: # compute similarity scores Gita vs. Gita\n",
        "# cosine_scoresGG = util.pytorch_cos_sim(embeddingG, embeddingG)\n",
        "# print(cosine_scoresGG.shape)\n",
        "# # rows: Gita, columns: Bible\n",
        "# scores_GG = cosine_scoresGG.detach(\n",
        "\n",
        "# compute similarity scores Gita vs. Gita\n",
        "cosine_scoresGG = util.pytorch_cos_sim(embeddingG, embeddingG)\n",
        "print(cosine_scoresGG.shape)\n",
        "# rows: Gita, columns: Bible\n",
        "scores_GG = cosine_scoresGG.detach().cpu().numpy()\n",
        "\n",
        "# Show heatmap\n",
        "fig = px.imshow(scores_GG, color_continuous_scale='RdYlBu_r', zmin = -.25, zmax = 1, labels=dict(x=\"Gita (Verse)\", y=\"Gita (Verse)\", color=\"Semantic Similarity\"),)\n",
        "\n",
        "# Update the hover text to display the corresponding text from df_Gita_by_verse\n",
        "fig.update_traces(hovertext=df_Gita_by_verse['Text'])\n",
        "\n",
        "fig.show()\n"
      ],
      "metadata": {
        "id": "XffC2VGqjIXw"
      },
      "execution_count": null,
      "outputs": []
    },
    {
      "cell_type": "code",
      "source": [
        "import plotly.express as px\n",
        "import pandas as pd\n",
        "import numpy as np\n",
        "from sentence_transformers import SentenceTransformer, util\n",
        "\n",
        "# Assuming df_Gita_by_verse and embeddingG are already defined and properly loaded\n",
        "\n",
        "# Compute similarity scores Gita vs. Gita\n",
        "cosine_scoresGG = util.pytorch_cos_sim(embeddingG, embeddingG)\n",
        "print(cosine_scoresGG.shape)\n",
        "\n",
        "# Detach and convert to numpy\n",
        "scores_GG = cosine_scoresGG.detach().cpu().numpy()\n",
        "\n",
        "# Create hover text array from df_Gita_by_verse\n",
        "hover_text = np.empty_like(scores_GG, dtype=object)\n",
        "for i in range(0,10):\n",
        "    for j in range(0,10):\n",
        "        hover_text[i, j] = f\"Gita Verse {i+1}: {df_Gita_by_verse['Text'][i]}<br>Gita Verse {j+1}: {df_Gita_by_verse['Text'][j]}\"\n",
        "\n",
        "# Show heatmap\n",
        "fig = px.imshow(\n",
        "    scores_GG,\n",
        "    color_continuous_scale='RdYlBu_r',\n",
        "    zmin=-.25,\n",
        "    zmax=1,\n",
        "    labels=dict(x=\"Gita (Verse)\", y=\"Gita (Verse)\", color=\"Semantic Similarity\")\n",
        ")\n",
        "\n",
        "# Update the hover text to display the corresponding text from df_Gita_by_verse\n",
        "fig.update_traces(hovertext=hover_text, hoverinfo=\"text\")\n",
        "\n",
        "fig.show()"
      ],
      "metadata": {
        "id": "M2L8YfFMlAN2"
      },
      "execution_count": null,
      "outputs": []
    },
    {
      "cell_type": "code",
      "source": [
        "import plotly.express as px\n",
        "import pandas as pd\n",
        "import numpy as np\n",
        "from sentence_transformers import SentenceTransformer, util\n",
        "\n",
        "# Assuming df_Gita_by_verse and embeddingG are already defined and properly loaded\n",
        "\n",
        "# Compute similarity scores Gita vs. Gita\n",
        "cosine_scoresGG = util.pytorch_cos_sim(embeddingG, embeddingG)\n",
        "print(cosine_scoresGG.shape)\n",
        "\n",
        "# Detach and convert to numpy\n",
        "scores_GG = cosine_scoresGG.detach().cpu().numpy()\n",
        "\n",
        "# Restrict to the first 10x10 part of the matrix for troubleshooting\n",
        "scores_GG_sub = scores_GG[:10, :10]\n",
        "\n",
        "# Create hover text array from df_Gita_by_verse for the first 10 lines\n",
        "hover_text = np.empty_like(scores_GG_sub, dtype=object)\n",
        "for i in range(10):\n",
        "    for j in range(10):\n",
        "        hover_text[i, j] = f\"Gita Verse {i+1}: {df_Gita_by_verse['Text'].iloc[i]}<br>Gita Verse {j+1}: {df_Gita_by_verse['Text'].iloc[j]}\"\n",
        "\n",
        "# Show heatmap\n",
        "fig = px.imshow(\n",
        "    scores_GG_sub,\n",
        "    color_continuous_scale='RdYlBu_r',\n",
        "    zmin=-.25,\n",
        "    zmax=1,\n",
        "    labels=dict(x=\"Gita (Verse)\", y=\"Gita (Verse)\", color=\"Semantic Similarity\")\n",
        ")\n",
        "\n",
        "# Update the hover text to display the corresponding text from df_Gita_by_verse\n",
        "fig.update_traces(\n",
        "    customdata=hover_text,\n",
        "    hovertemplate=\"%{customdata}<extra></extra>\"\n",
        ")\n",
        "\n",
        "fig.show()"
      ],
      "metadata": {
        "id": "-zroSvCln0RF"
      },
      "execution_count": null,
      "outputs": []
    },
    {
      "cell_type": "code",
      "source": [
        "# Hover text display currently has upper limits, and 250x250 is near the limit, so this restricts the figure to the first 250 units and displays them\n",
        "\n",
        "# Compute similarity scores Gita vs. Gita\n",
        "cosine_scoresGG = util.pytorch_cos_sim(embeddingG, embeddingG)\n",
        "print(cosine_scoresGG.shape)\n",
        "\n",
        "# Detach and convert to numpy\n",
        "scores_GG = cosine_scoresGG.detach().cpu().numpy()\n",
        "\n",
        "# Restrict to the first 250x250 part of the matrix for troubleshooting\n",
        "scores_GG_sub = scores_GG[:250, :250]\n",
        "\n",
        "# Create hover text array from df_Gita_by_verse for the first 10 lines\n",
        "hover_text = np.empty_like(scores_GG_sub, dtype=object)\n",
        "for i in range(250):\n",
        "    for j in range(250):\n",
        "        hover_text[i, j] = f\"Gita Verse {i+1}: {df_Gita_by_verse['Text'].iloc[i]}<br>Gita Verse {j+1}: {df_Gita_by_verse['Text'].iloc[j]}\"\n",
        "\n",
        "# Show heatmap\n",
        "fig = px.imshow(\n",
        "    scores_GG_sub,\n",
        "    color_continuous_scale='RdYlBu_r',\n",
        "    zmin=-.25,\n",
        "    zmax=1,\n",
        "    labels=dict(x=\"Gita (Verse)\", y=\"Gita (Verse)\", color=\"Semantic Similarity\")\n",
        ")\n",
        "\n",
        "# Update the hover text to display the corresponding text from df_Gita_by_verse\n",
        "fig.update_traces(\n",
        "    customdata=hover_text,\n",
        "    hovertemplate=\"%{customdata}<extra></extra>\"\n",
        ")\n",
        "\n",
        "fig.show()"
      ],
      "metadata": {
        "id": "Bcf7LIbZonFI"
      },
      "execution_count": null,
      "outputs": []
    },
    {
      "cell_type": "code",
      "source": [
        "# Hover text display currently has upper limits, and 100x100 is near the limit, so this restricts the figure to the first 100 units and displays them\n",
        "\n",
        "# Compute similarity scores Bible verses Bible\n",
        "cosine_scoresBB = util.pytorch_cos_sim(embeddingB, embeddingB)\n",
        "print(cosine_scoresBB.shape)\n",
        "\n",
        "# Detach and convert to numpy\n",
        "scores_BB = cosine_scoresBB.detach().cpu().numpy()\n",
        "\n",
        "# Restrict to the first 250x250 part of the matrix for troubleshooting\n",
        "scores_BB_sub = scores_BB[:10, :10]\n",
        "\n",
        "# Create hover text array from df_Gita_by_verse for the first 10 lines\n",
        "hover_text = np.empty_like(scores_BB_sub, dtype=object)\n",
        "for i in range(10):\n",
        "    for j in range(10):\n",
        "        hover_text[i, j] = f\"Bible Chapter {i+1}: {df_Bible_by_chapter['text'].iloc[i]}<br>Bible Chapter {j+1}: {df_Bible_by_chapter['text'].iloc[j]}\"\n",
        "\n",
        "# Show heatmap\n",
        "fig = px.imshow(\n",
        "    scores_BB_sub,\n",
        "    color_continuous_scale='RdYlBu_r',\n",
        "    zmin=-.25,\n",
        "    zmax=1,\n",
        "    labels=dict(x=\"Bible (Chapter)\", y=\"Bible (Chapter)\", color=\"Semantic Similarity\")\n",
        ")\n",
        "\n",
        "# Update the hover text to display the corresponding text from df_Gita_by_verse\n",
        "fig.update_traces(\n",
        "    customdata=hover_text,\n",
        "    hovertemplate=\"%{customdata}<extra></extra>\"\n",
        ")\n",
        "\n",
        "fig.show()"
      ],
      "metadata": {
        "id": "o6pe6dJcrT7_"
      },
      "execution_count": null,
      "outputs": []
    },
    {
      "cell_type": "code",
      "source": [
        "df_Bible_by_chapter['text']"
      ],
      "metadata": {
        "id": "m7yywOrEr_Dm"
      },
      "execution_count": null,
      "outputs": []
    },
    {
      "cell_type": "code",
      "source": [
        "df_Gita_by_verse"
      ],
      "metadata": {
        "id": "BBFfgJLQoyjH"
      },
      "execution_count": null,
      "outputs": []
    },
    {
      "cell_type": "code",
      "source": [
        "hover_text"
      ],
      "metadata": {
        "id": "OJeTEjh_lPPc"
      },
      "execution_count": null,
      "outputs": []
    },
    {
      "cell_type": "code",
      "execution_count": null,
      "metadata": {
        "id": "YrXWjLwE_h7R"
      },
      "outputs": [],
      "source": [
        "# compute similarity scores Gita vs. Bible\n",
        "cosine_scoresGB = util.pytorch_cos_sim(embeddingG, embeddingB)\n",
        "print(cosine_scoresGB.shape)\n",
        "# rows: Gita, columns: Bible\n",
        "scores_GB = cosine_scoresGB.detach().cpu().numpy()\n",
        "\n",
        "# Show heatmap\n",
        "fig = px.imshow(scores_GB, color_continuous_scale='RdYlBu_r', zmin = -.25, zmax = 1, labels=dict(x=\"Bible (Chapter)\", y=\"Gita (Verse)\", color=\"Semantic Similarity\"),)\n",
        "fig.show()"
      ]
    },
    {
      "cell_type": "markdown",
      "metadata": {
        "id": "uypjnvLtNDNx"
      },
      "source": [
        "In general, the Gita and the Bible seem fairly dissimilar to each other. Chapters 400-650 of the Bible represent a range of medium similarity with most of the Gita, roughly corresponding to the books of Esther, Job, Psalms, and Proverbs."
      ]
    },
    {
      "cell_type": "markdown",
      "metadata": {
        "id": "XiylIOTyM_bl"
      },
      "source": [
        "Our next heatmap compares the similarity / dissimilarity of every Qur'an verse to every Bible chapter."
      ]
    },
    {
      "cell_type": "code",
      "execution_count": null,
      "metadata": {
        "id": "iwdlnV4gM_wM"
      },
      "outputs": [],
      "source": [
        "# compute similarity scores Qur'an vs. Bible\n",
        "cosine_scoresQB = util.pytorch_cos_sim(embeddingQ, embeddingB)\n",
        "print(cosine_scoresQB.shape)\n",
        "# rows: Qur'an, columns: Bible\n",
        "scores_QB = cosine_scoresQB.detach().cpu().numpy()\n",
        "\n",
        "# Show heatmap\n",
        "fig = px.imshow(scores_QB, color_continuous_scale='RdYlBu_r', zmin = -.25, zmax = 1, labels=dict(x=\"Bible (Chapter)\", y=\"Quran (Chapter)\", color=\"Semantic Similarity\"),)\n",
        "fig.show()"
      ]
    },
    {
      "cell_type": "markdown",
      "metadata": {
        "id": "_6tLtzfDNEql"
      },
      "source": [
        "Discussion of Heatmap 2"
      ]
    },
    {
      "cell_type": "markdown",
      "metadata": {
        "id": "HSobaKAiNAHL"
      },
      "source": [
        "Our last heatmap compares the similarity / dissimilarity of every Qur'an verse to every Gita verse."
      ]
    },
    {
      "cell_type": "code",
      "execution_count": null,
      "metadata": {
        "id": "w7RM9QmfNAgG"
      },
      "outputs": [],
      "source": [
        "# compute similarity scores Qur'an vs. Gita\n",
        "cosine_scoresQG = util.pytorch_cos_sim(embeddingQ, embeddingG)\n",
        "print(cosine_scoresQG.shape)\n",
        "# rows: Qur'an, columns: Gita\n",
        "scores_QG = cosine_scoresQG.detach().cpu().numpy()\n",
        "\n",
        "# Show heatmap\n",
        "fig = px.imshow(scores_QG, color_continuous_scale='RdYlBu_r', zmin = -.25, zmax = 1, labels=dict(x=\"Gita (Chapter)\", y=\"Quran (Chapter)\", color=\"Semantic Similarity\"),)\n",
        "fig.show()"
      ]
    },
    {
      "cell_type": "code",
      "execution_count": null,
      "metadata": {
        "id": "b4gQ7neDyDWO"
      },
      "outputs": [],
      "source": [
        "# prompt: Modify this code to add a hover over ability to see the source text # compute similarity scores Qur'an vs. Gita\n",
        "# cosine_scoresQG = util.pytorch_cos_sim(embeddingQ, embeddingG)\n",
        "# print(cosine_scoresQG.shape)\n",
        "# # rows: Qur'an, columns: Gita\n",
        "# scores_QG = cosine_scoresQG.detach().cpu().numpy()\n",
        "# # Show heatmap\n",
        "# fig = px.imshow(scores_QG, color_continuous_scale='RdBu_r', labels=dict(x=\"Gita (Chapter)\", y=\"Qura\n",
        "\n",
        "# compute similarity scores Qur'an vs. Gita\n",
        "cosine_scoresQG = util.pytorch_cos_sim(embeddingQ, embeddingG)\n",
        "print(cosine_scoresQG.shape)\n",
        "# rows: Qur'an, columns: Gita\n",
        "scores_QG = cosine_scoresQG.detach().cpu().numpy()\n",
        "\n",
        "# Show heatmap\n",
        "fig = px.imshow(scores_QG, color_continuous_scale='RdBu_r', labels=dict(x=\"Gita (Chapter)\", y=\"Quran (Chapter)\", color=\"Semantic Similarity\"),)\n",
        "fig.update_traces(hovertemplate=\n",
        "    '<b>Gita Verse:</b> %{y}<br>' +\n",
        "    '<b>Quran Verse:</b> %{x}<br>' +\n",
        "    '<b>Similarity Score:</b> %{z:.2f}<extra></extra>')\n",
        "fig.show()\n"
      ]
    },
    {
      "cell_type": "code",
      "execution_count": null,
      "metadata": {
        "id": "lcTPpqHvqwlE"
      },
      "outputs": [],
      "source": [
        "Writings_url = 'https://raw.githubusercontent.com/justinjunge/Convergent-Wisdom-Project/master/Demo_Embedding2.pt'\n",
        "\n",
        "\n",
        "\n",
        "responseW = requests.get(Writings_url)\n",
        "\n",
        "if responseW.status_code == 200:\n",
        "    with open('Demo_Embedding2.pt', 'wb') as f:\n",
        "        f.write(responseW.content)\n",
        "    embeddingW = torch.load('Demo_Embedding2.pt')\n",
        "    print(\"Model loaded successfully!\")\n",
        "else:\n",
        "    print(\"Failed to fetch the file.\")"
      ]
    },
    {
      "cell_type": "code",
      "execution_count": null,
      "metadata": {
        "id": "NWkL8AzLqT8i"
      },
      "outputs": [],
      "source": [
        "# compute similarity scores Writings vs. Bible\n",
        "cosine_scoresBW = util.pytorch_cos_sim(embeddingW, embeddingB)\n",
        "print(cosine_scoresBW.shape)\n",
        "# rows: Qur'an, columns: Bible\n",
        "scores_BW = cosine_scoresBW.detach().cpu().numpy()\n",
        "\n",
        "# Show heatmap\n",
        "fig = px.imshow(scores_BW, color_continuous_scale='RdYlBu_r', zmin = -.25, zmax = 1, labels=dict(x=\"Bible (Chapter)\", y=\"Writings (Book)\", color=\"Semantic Similarity\"),)\n",
        "fig.show()"
      ]
    },
    {
      "cell_type": "code",
      "execution_count": null,
      "metadata": {
        "id": "bLYUA0JKTajp"
      },
      "outputs": [],
      "source": [
        "# compute similarity scores Writings vs. Writings\n",
        "cosine_scoresWW = util.pytorch_cos_sim(embeddingW, embeddingW)\n",
        "print(cosine_scoresWW.shape)\n",
        "# rows: Gita, columns: Bible\n",
        "scores_WW = cosine_scoresWW.detach().cpu().numpy()\n",
        "\n",
        "# Show heatmap\n",
        "fig = px.imshow(scores_WW, color_continuous_scale='RdYlBu_r', zmin = -.25, zmax = 1, labels=dict(x=\"Writings (chapter)\", y=\"Writings (Chapter)\", color=\"Semantic Similarity\"),)\n",
        "fig.show()"
      ]
    },
    {
      "cell_type": "code",
      "source": [
        "# compute similarity scores Writings vs. Writings\n",
        "cosine_scoresGW = util.pytorch_cos_sim(embeddingG, embeddingW)\n",
        "print(cosine_scoresGW.shape)\n",
        "# rows: Gita, columns: Bible\n",
        "scores_GW = cosine_scoresGW.detach().cpu().numpy()\n",
        "\n",
        "# Show heatmap\n",
        "fig = px.imshow(scores_GW, color_continuous_scale='RdYlBu_r', zmin = -.25, zmax = 1, labels=dict(x=\"Gita (Verse)\", y=\"Writings (Chapter)\", color=\"Semantic Similarity\"),)\n",
        "fig.show()"
      ],
      "metadata": {
        "id": "8mPyfxFgfKTe"
      },
      "execution_count": null,
      "outputs": []
    },
    {
      "cell_type": "code",
      "source": [
        "# compute similarity scores Writings vs. Quran\n",
        "cosine_scoresQW = util.pytorch_cos_sim(embeddingQ, embeddingW)\n",
        "print(cosine_scoresQW.shape)\n",
        "# rows: Gita, columns: Bible\n",
        "scores_QW = cosine_scoresQW.detach().cpu().numpy()\n",
        "\n",
        "# Show heatmap\n",
        "fig = px.imshow(scores_QW, color_continuous_scale='RdYlBu_r', zmin = -.25, zmax = 1, labels=dict(x=\"Writings (Chapter)\", y=\"Quran (Chapter)\", color=\"Semantic Similarity\"),)\n",
        "fig.show()"
      ],
      "metadata": {
        "id": "jKj4gOhm4qF_"
      },
      "execution_count": null,
      "outputs": []
    },
    {
      "cell_type": "code",
      "source": [
        "df_Bible_by_chapter = df_Bible.groupby(['book', 'chapter'])['text'].apply(lambda x: ' '.join(x)).to_frame().reset_index()\n",
        "df_Bible_by_chapter['text'][0]\n",
        "\n",
        "df_Gita_by_verse = df_Gita.groupby(['Chapter', 'Verse'])['Text'].apply(lambda x: ' '.join(x)).to_frame().reset_index()\n",
        "df_Gita_by_verse['Text'][0]\n",
        "\n",
        "df_Quran_by_chapter = df_Quran.groupby(['Surah', 'Ayah'])['Text'].apply(lambda x: ' '.join(x)).to_frame().reset_index()\n",
        "df_Quran_by_chapter['Text'][0]\n"
      ],
      "metadata": {
        "id": "TVC0hviRJgFm"
      },
      "execution_count": null,
      "outputs": []
    },
    {
      "cell_type": "code",
      "source": [
        "df_Quran_by_chapter"
      ],
      "metadata": {
        "id": "2G3fkWBdgVrc"
      },
      "execution_count": null,
      "outputs": []
    },
    {
      "cell_type": "code",
      "source": [
        "# compute similarity scores Bible vs. Bible\n",
        "cosine_scoresBB = util.pytorch_cos_sim(embeddingB, embeddingB)\n",
        "print(cosine_scoresBB.shape)\n",
        "# rows: Gita, columns: Bible\n",
        "scores_BB = cosine_scoresBB.detach().cpu().numpy()\n",
        "\n",
        "# Show heatmap\n",
        "fig = px.imshow(scores_BB, color_continuous_scale='RdYlBu_r', zmin = -.25, zmax = 1, labels=dict(x=\"Bible (Chapter)\", y=\"Bible (Chapt)\", color=\"Semantic Similarity\"),)\n",
        "fig.show()\n"
      ],
      "metadata": {
        "id": "u8HOsuDNPTqE"
      },
      "execution_count": null,
      "outputs": []
    },
    {
      "cell_type": "markdown",
      "metadata": {
        "id": "f-4wRpF7NBJD"
      },
      "source": [
        "Discussion of Heatmap 4"
      ]
    },
    {
      "cell_type": "markdown",
      "metadata": {
        "id": "M7z97jJKNBh4"
      },
      "source": [
        "# Remarks"
      ]
    },
    {
      "cell_type": "markdown",
      "metadata": {
        "id": "DQ0xeELpNbQ-"
      },
      "source": [
        "The application of natural language processing, sentiment analysis, and word cloud generation methodologies to the study of emotional religious psychology yields profound insights and opens countless new doors for discovery. In just one short notebook, our tools read through thousands of pages of sacred religious scripture and generated emotional data about them in seconds. When these data are paired with data from the lived experience of different religious practitioners, it becomes possible to see how life experiences and religious texts can both influence each others' emotional canvas. It also becomes possible to see how the world's great religions converge and diverge in their wisdom on human psychology.\n",
        "\n",
        "While this cutting-edge interdisciplinary work is truly groundbreaking, the sheer potential for future researchers to catapult these methods to even greater heights is all the more exciting. The authors of this project can't wait to see how the global community of human scholars further expands on our initial ideas.\n",
        "\n",
        "Have you checked out our other modules yet? See the Word Clouds and Sentiment Analysis modules for even more exciting possibilities."
      ]
    }
  ],
  "metadata": {
    "accelerator": "GPU",
    "colab": {
      "machine_shape": "hm",
      "provenance": [],
      "include_colab_link": true
    },
    "kernelspec": {
      "display_name": "Python 3",
      "name": "python3"
    },
    "language_info": {
      "name": "python"
    }
  },
  "nbformat": 4,
  "nbformat_minor": 0
}